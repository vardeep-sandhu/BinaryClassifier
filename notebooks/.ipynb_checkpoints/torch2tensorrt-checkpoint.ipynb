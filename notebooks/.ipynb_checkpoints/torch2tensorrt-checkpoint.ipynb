{
 "cells": [
  {
   "cell_type": "markdown",
   "id": "6dc05744",
   "metadata": {},
   "source": [
    "This is the torch to tensorrt converter notebook. I will add more stuff once I know what to add. I am following this link: https://learnopencv.com/how-to-convert-a-model-from-pytorch-to-tensorrt-and-speed-up-inference/"
   ]
  },
  {
   "cell_type": "code",
   "execution_count": 3,
   "id": "4ceeaead",
   "metadata": {},
   "outputs": [],
   "source": [
    "import torch\n",
    "import os"
   ]
  },
  {
   "cell_type": "code",
   "execution_count": 4,
   "id": "967f737f",
   "metadata": {},
   "outputs": [],
   "source": [
    "trained_model_path = \"runs/traversky/2023_03_05_21_30_33/model.pth\"\n",
    "ONNX_FILE_PATH = 'bin_classifier.onnx'"
   ]
  },
  {
   "cell_type": "code",
   "execution_count": null,
   "id": "893b007b",
   "metadata": {},
   "outputs": [],
   "source": [
    "checkpoint = torch.load(args.weights)\n",
    "model.load_state_dict(checkpoint['state_dict'])\n",
    "\n",
    "torch.onnx.export(model, input, ONNX_FILE_PATH, input_names=['input'],\n",
    "                  output_names=['output'], export_params=True)"
   ]
  }
 ],
 "metadata": {
  "kernelspec": {
   "display_name": "Python 3 (ipykernel)",
   "language": "python",
   "name": "python3"
  },
  "language_info": {
   "codemirror_mode": {
    "name": "ipython",
    "version": 3
   },
   "file_extension": ".py",
   "mimetype": "text/x-python",
   "name": "python",
   "nbconvert_exporter": "python",
   "pygments_lexer": "ipython3",
   "version": "3.8.16"
  }
 },
 "nbformat": 4,
 "nbformat_minor": 5
}
